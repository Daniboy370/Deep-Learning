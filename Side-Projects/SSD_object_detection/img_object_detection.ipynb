{
  "nbformat": 4,
  "nbformat_minor": 0,
  "metadata": {
    "accelerator": "GPU",
    "colab": {
      "name": "img_object_detection.ipynb",
      "provenance": [],
      "private_outputs": true,
      "collapsed_sections": [],
      "toc_visible": true
    },
    "kernelspec": {
      "display_name": "Python 3",
      "name": "python3"
    }
  },
  "cells": [
    {
      "cell_type": "markdown",
      "metadata": {
        "id": "EXFVfE-ZPyRF",
        "colab_type": "text"
      },
      "source": [
        "# Initializations"
      ]
    },
    {
      "cell_type": "code",
      "metadata": {
        "colab_type": "code",
        "id": "ykA0c-om51s1",
        "colab": {}
      },
      "source": [
        "!pip install -U --pre tensorflow==\"2.*\"\n",
        "!pip install pycocotools\n",
        "import os, pathlib\n",
        "\n",
        "from google.colab import drive\n",
        "path = '/content/drive/My Drive/Colab Notebooks/Object Detection'\n",
        "drive.mount('/content/drive')\n",
        "\n",
        "if os.getcwd() != path:\n",
        "    os.chdir(path)\n",
        "\n",
        "if \"models\" in pathlib.Path.cwd().parts:\n",
        "  while \"models\" in pathlib.Path.cwd().parts:\n",
        "    os.chdir('..')\n",
        "elif not pathlib.Path('models').exists():\n",
        "  !git clone --depth 1 https://github.com/tensorflow/models\n",
        "\n",
        "from IPython.display import clear_output\n",
        "clear_output"
      ],
      "execution_count": 0,
      "outputs": []
    },
    {
      "cell_type": "markdown",
      "metadata": {
        "colab_type": "text",
        "id": "O219m6yWAj9l"
      },
      "source": [
        "Compile protobufs and install the object_detection package ( ~ 10 mins ... )"
      ]
    },
    {
      "cell_type": "code",
      "metadata": {
        "colab_type": "code",
        "id": "PY41vdYYNlXc",
        "colab": {}
      },
      "source": [
        "%%bash\n",
        "cd models/research/\n",
        "protoc object_detection/protos/*.proto --python_out=."
      ],
      "execution_count": 0,
      "outputs": []
    },
    {
      "cell_type": "code",
      "metadata": {
        "colab_type": "code",
        "id": "s62yJyQUcYbp",
        "colab": {}
      },
      "source": [
        "%%bash \n",
        "cd models/research\n",
        "pip install .\n",
        "\n",
        "clear_output"
      ],
      "execution_count": 0,
      "outputs": []
    },
    {
      "cell_type": "markdown",
      "metadata": {
        "colab_type": "text",
        "id": "LBdjK2G5ywuc"
      },
      "source": [
        "### Imports"
      ]
    },
    {
      "cell_type": "code",
      "metadata": {
        "colab_type": "code",
        "id": "hV4P5gyTWKMI",
        "colab": {}
      },
      "source": [
        "import numpy as np\n",
        "import tensorflow as tf\n",
        "import os, sys, tarfile, zipfile\n",
        "import six.moves.urllib as urllib\n",
        "\n",
        "from PIL import Image\n",
        "from io import StringIO\n",
        "from matplotlib import pyplot as plt\n",
        "from collections import defaultdict\n",
        "from IPython.display import display\n",
        "from object_detection.utils import ops as utils_ops, label_map_util\n",
        "from object_detection.utils import visualization_utils as vis_util"
      ],
      "execution_count": 0,
      "outputs": []
    },
    {
      "cell_type": "markdown",
      "metadata": {
        "colab_type": "text",
        "id": "RYPCiag2iz_q"
      },
      "source": [
        "Patches:"
      ]
    },
    {
      "cell_type": "code",
      "metadata": {
        "colab_type": "code",
        "id": "mF-YlMl8c_bM",
        "colab": {}
      },
      "source": [
        "# patch tf1 into `utils.ops`\n",
        "utils_ops.tf = tf.compat.v1\n",
        "\n",
        "# Patch the location of gfile\n",
        "tf.gfile = tf.io.gfile"
      ],
      "execution_count": 0,
      "outputs": []
    },
    {
      "cell_type": "markdown",
      "metadata": {
        "colab_type": "text",
        "id": "cfn_tRFOWKMO"
      },
      "source": [
        "# Model preparation "
      ]
    },
    {
      "cell_type": "markdown",
      "metadata": {
        "colab_type": "text",
        "id": "X_sEBLpVWKMQ"
      },
      "source": [
        "## Variables\n",
        "\n",
        "By default I used an \"SSD with Mobilenet\" model here. See the [detection model zoo](https://github.com/tensorflow/models/blob/master/research/object_detection/g3doc/detection_model_zoo.md) for a list of other models that can be run out-of-the-box with varying speeds and accuracies. Let us write the loader funtion for the specified model :"
      ]
    },
    {
      "cell_type": "code",
      "metadata": {
        "colab_type": "code",
        "id": "zm8xp-0eoItE",
        "colab": {}
      },
      "source": [
        "def load_model(model_name):\n",
        "    base_url = 'http://download.tensorflow.org/models/object_detection/'\n",
        "    model_file = model_name + '.tar.gz'\n",
        "    model_dir = tf.keras.utils.get_file(fname=model_name, origin=base_url + model_file, untar=True)\n",
        "    model_dir = pathlib.Path(model_dir)/\"saved_model\"\n",
        "    model = tf.saved_model.load(str(model_dir))\n",
        "    model = model.signatures['serving_default']\n",
        "\n",
        "    return model"
      ],
      "execution_count": 0,
      "outputs": []
    },
    {
      "cell_type": "markdown",
      "metadata": {
        "colab_type": "text",
        "id": "_1MVVTcLWKMW"
      },
      "source": [
        "## Loading label map\n",
        "Label maps map indices to category names, so that when our convolution network predicts `5`, we know that this corresponds to `airplane`.  Here we use internal utility functions, but anything that returns a dictionary mapping integers to appropriate string labels would be fine"
      ]
    },
    {
      "cell_type": "code",
      "metadata": {
        "colab_type": "code",
        "id": "hDbpHkiWWKMX",
        "colab": {}
      },
      "source": [
        "# List of the strings that is used to add correct label for each box.\n",
        "PATH_TO_LABELS = 'models/research/object_detection/data/mscoco_label_map.pbtxt'\n",
        "category_index = label_map_util.create_category_index_from_labelmap(PATH_TO_LABELS, use_display_name=True)"
      ],
      "execution_count": 0,
      "outputs": []
    },
    {
      "cell_type": "code",
      "metadata": {
        "colab_type": "code",
        "id": "jG-zn5ykWKMd",
        "colab": {}
      },
      "source": [
        "# If you want to test the code with your images, just add path to the images to the TEST_IMAGE_PATHS.\n",
        "PATH_TO_TEST_IMAGES_DIR = pathlib.Path('models/research/object_detection/test_images')\n",
        "TEST_IMAGE_PATHS = sorted(list(PATH_TO_TEST_IMAGES_DIR.glob(\"*.jpg\")) )\n",
        "# TEST_IMAGE_PATHS.extend( sorted(list(PATH_TO_TEST_IMAGES_DIR.glob(\"*.png\")) ) )\n",
        "TEST_IMAGE_PATHS"
      ],
      "execution_count": 0,
      "outputs": []
    },
    {
      "cell_type": "markdown",
      "metadata": {
        "colab_type": "text",
        "id": "H0_1AGhrWKMc"
      },
      "source": [
        "# Detection"
      ]
    },
    {
      "cell_type": "markdown",
      "metadata": {
        "colab_type": "text",
        "id": "f7aOtOlebK7h"
      },
      "source": [
        "Load an object detection model:"
      ]
    },
    {
      "cell_type": "code",
      "metadata": {
        "colab_type": "code",
        "id": "1XNT0wxybKR6",
        "colab": {}
      },
      "source": [
        "model_name = 'ssd_mobilenet_v1_coco_2018_01_28'\n",
        "detection_model = load_model(model_name)\n"
      ],
      "execution_count": 0,
      "outputs": []
    },
    {
      "cell_type": "markdown",
      "metadata": {
        "colab_type": "text",
        "id": "yN1AYfAEJIGp"
      },
      "source": [
        "Check the model's input signature, it expects a batch of 3-color images of type uint8: "
      ]
    },
    {
      "cell_type": "code",
      "metadata": {
        "id": "96IxWsuFRPIS",
        "colab_type": "code",
        "colab": {}
      },
      "source": [
        "detection_model.inputs\n",
        "print('Input must be a tensor (!)')"
      ],
      "execution_count": 0,
      "outputs": []
    },
    {
      "cell_type": "markdown",
      "metadata": {
        "colab_type": "text",
        "id": "JP5qZ7sXJpwG"
      },
      "source": [
        "Add a wrapper function to call the model, and cleanup the outputs:"
      ]
    },
    {
      "cell_type": "code",
      "metadata": {
        "colab_type": "code",
        "id": "ajmR_exWyN76",
        "colab": {}
      },
      "source": [
        "def run_inference_for_single_image(model, image):\n",
        "    image = np.asarray(image)\n",
        "    input_tensor = tf.convert_to_tensor(image)  # input must be Tensor (!)\n",
        "    input_tensor = input_tensor[tf.newaxis,...]\n",
        "\n",
        "    # Run inference\n",
        "    output_dict = model(input_tensor)\n",
        "    # Convert to numpy arrays, and take index [0] to remove the batch dimension.\n",
        "    # We're only interested in the first num_detections.\n",
        "\n",
        "    num_detections = int(output_dict.pop('num_detections'))\n",
        "    output_dict = {key:value[0, :num_detections].numpy() for key,value in output_dict.items()}\n",
        "    output_dict['num_detections'] = num_detections\n",
        "\n",
        "    # detection_classes should be ints.\n",
        "    output_dict['detection_classes'] = output_dict['detection_classes'].astype(np.int64)\n",
        "\n",
        "    # Handle models with masks:\n",
        "    if 'detection_masks' in output_dict:\n",
        "    # Reframe the the bbox mask to the image size.\n",
        "        detection_masks_reframed = utils_ops.reframe_box_masks_to_image_masks( \n",
        "            output_dict['detection_masks'], output_dict['detection_boxes'], image.shape[0], image.shape[1])\n",
        "        detection_masks_reframed = tf.cast(detection_masks_reframed > 0.5, tf.uint8)\n",
        "        output_dict['detection_masks_reframed'] = detection_masks_reframed.numpy()\n",
        "\n",
        "    return output_dict"
      ],
      "execution_count": 0,
      "outputs": []
    },
    {
      "cell_type": "markdown",
      "metadata": {
        "colab_type": "text",
        "id": "z1wq0LVyMRR_"
      },
      "source": [
        "Run it on each test image and show the results:"
      ]
    },
    {
      "cell_type": "code",
      "metadata": {
        "colab_type": "code",
        "id": "DWh_1zz6aqxs",
        "colab": {}
      },
      "source": [
        "import cv2, pdb\n",
        "# pdb.set_trace()\n",
        "\n",
        "def show_inference(model, image_path):\n",
        "    image_org = np.array(Image.open(image_path))\n",
        "    wy, hx = image_org.shape[0:2]\n",
        "    # print('Image sizes: %d x %d' % (hx, wy) )\n",
        "    rsz_fct = 0.5           # Image downsize factor \n",
        "    img_dsz = ( int(rsz_fct*hx), int(rsz_fct*wy) )         # Image downsize factor \n",
        "    image_np = cv2.resize(image_org, dsize=img_dsz, interpolation=cv2.INTER_CUBIC)\n",
        "    output_dict = run_inference_for_single_image(model, image_np)\n",
        "    # Visualization of the results of a detection\n",
        "    vis_util.visualize_boxes_and_labels_on_image_array(image_np, output_dict['detection_boxes'],\n",
        "        output_dict['detection_classes'], output_dict['detection_scores'],\n",
        "        category_index, instance_masks=output_dict.get('detection_masks_reframed', None),\n",
        "        use_normalized_coordinates=True, line_thickness=7)\n",
        "\n",
        "    display(Image.fromarray(image_np))  \n",
        "    cv2.imwrite(os.path.join(path_saved_imgs, 'img_'+str(counter+1)+'.png') , image_np)"
      ],
      "execution_count": 0,
      "outputs": []
    },
    {
      "cell_type": "code",
      "metadata": {
        "colab_type": "code",
        "id": "3a5wMHN8WKMh",
        "colab": {}
      },
      "source": [
        "path_saved_imgs = path + '/saved_images'\n",
        "if not os.path.exists(path_saved_imgs):\n",
        "    os.makedirs(path_saved_imgs)\n",
        "\n",
        "for counter, image_path in enumerate(TEST_IMAGE_PATHS):\n",
        "    show_inference(detection_model, image_path, counter)"
      ],
      "execution_count": 0,
      "outputs": []
    },
    {
      "cell_type": "markdown",
      "metadata": {
        "colab_type": "text",
        "id": "DsspMPX3Cssg"
      },
      "source": [
        "## Instance Segmentation"
      ]
    },
    {
      "cell_type": "code",
      "metadata": {
        "colab_type": "code",
        "id": "CzkVv_n2MxKC",
        "colab": {}
      },
      "source": [
        "model_name = \"mask_rcnn_inception_resnet_v2_atrous_coco_2018_01_28\"\n",
        "masking_model = load_model(model_name)\n",
        "\n",
        "masking_model.output_shapes\n",
        "\n",
        "for image_path in TEST_IMAGE_PATHS:\n",
        "    show_inference(masking_model, image_path)"
      ],
      "execution_count": 0,
      "outputs": []
    }
  ]
}